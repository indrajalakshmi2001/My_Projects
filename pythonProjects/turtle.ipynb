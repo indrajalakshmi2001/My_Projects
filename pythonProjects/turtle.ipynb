{
 "cells": [
  {
   "cell_type": "markdown",
   "id": "14ac93f5-7688-4eab-9256-4522bbb8a9b9",
   "metadata": {},
   "source": [
    "# Project - Functions"
   ]
  },
  {
   "cell_type": "code",
   "execution_count": 1,
   "id": "577e9ab6-a398-4039-8bd2-b8b900bcdd10",
   "metadata": {},
   "outputs": [],
   "source": [
    "# import the module -> turtle\n",
    "import turtle"
   ]
  },
  {
   "cell_type": "code",
   "execution_count": 2,
   "id": "a738ce8e-56fc-4fa6-a339-303c60c7a5d3",
   "metadata": {},
   "outputs": [],
   "source": [
    "t = turtle.Turtle()"
   ]
  },
  {
   "cell_type": "markdown",
   "id": "0a510664-78e3-4038-b1b8-2fe1c4a721c9",
   "metadata": {},
   "source": [
    "### Creating a Rectangle"
   ]
  },
  {
   "cell_type": "code",
   "execution_count": 4,
   "id": "5ee55f64-1a36-49ac-86f4-5cad35f365f2",
   "metadata": {},
   "outputs": [],
   "source": [
    "t.fd(100)"
   ]
  },
  {
   "cell_type": "code",
   "execution_count": 5,
   "id": "3f4fe775-96ab-4aa0-90ca-9ed7c6f63fd6",
   "metadata": {},
   "outputs": [],
   "source": [
    "t.lt(90)"
   ]
  },
  {
   "cell_type": "code",
   "execution_count": 9,
   "id": "c66af0eb-d750-4a60-8f18-f4d5517ee248",
   "metadata": {},
   "outputs": [],
   "source": [
    "t.fd(300)"
   ]
  },
  {
   "cell_type": "code",
   "execution_count": 10,
   "id": "492273d0-a52a-49dc-a039-d3d7cc55bbcd",
   "metadata": {},
   "outputs": [],
   "source": [
    "t.lt(90)"
   ]
  },
  {
   "cell_type": "code",
   "execution_count": 11,
   "id": "f4bde265-d0da-4a6c-bf40-55c57ff099c5",
   "metadata": {},
   "outputs": [],
   "source": [
    "t.fd(100)"
   ]
  },
  {
   "cell_type": "code",
   "execution_count": 12,
   "id": "5f1cbac0-796f-424c-a375-73e77f09227e",
   "metadata": {},
   "outputs": [],
   "source": [
    "t.lt(90)"
   ]
  },
  {
   "cell_type": "code",
   "execution_count": 13,
   "id": "9fb9eb19-99b8-4038-900c-e0a614887229",
   "metadata": {},
   "outputs": [],
   "source": [
    "t.fd(300)"
   ]
  },
  {
   "cell_type": "markdown",
   "id": "b9bdf620-662f-42ec-adc2-4ff6ed0fa5bc",
   "metadata": {},
   "source": [
    "Move functions:\n",
    "* fd(px) -> forward\n",
    "* bk(px) -> backward\n",
    "* lt(angle) -> turns left\n",
    "* rt(angle) -> turns right"
   ]
  },
  {
   "cell_type": "code",
   "execution_count": 14,
   "id": "3ff6b671-b2a1-4143-9ab6-73918017d76a",
   "metadata": {},
   "outputs": [],
   "source": [
    "# Clear screen\n",
    "t.clear()"
   ]
  },
  {
   "cell_type": "code",
   "execution_count": 8,
   "id": "c792d1e4-a05e-4755-ad1e-63e7af2e00c5",
   "metadata": {},
   "outputs": [],
   "source": [
    "turtle.resetscreen()"
   ]
  },
  {
   "cell_type": "markdown",
   "id": "b5e2051f-1ed2-4765-a24f-79ea87115c6d",
   "metadata": {},
   "source": [
    "### Creating a Square"
   ]
  },
  {
   "cell_type": "code",
   "execution_count": 2,
   "id": "b52ea944-18bb-48c8-b37e-0d3e83cb9869",
   "metadata": {},
   "outputs": [],
   "source": [
    "# Move 100 pixel forward\n",
    "# Turn left 90 degrees\n",
    "\n",
    "# Move 100 pixel forward\n",
    "# Turn left 90 degrees\n",
    "\n",
    "# Move 100 pixel forward\n",
    "# Turn left 90 degrees\n",
    "\n",
    "# Move 100 pixel forward\n",
    "# Turn left 90 degrees\n",
    "\n",
    "t.fd(100)\n",
    "t.lt(90)\n",
    "\n",
    "t.fd(100)\n",
    "t.lt(90)\n",
    "\n",
    "t.fd(100)\n",
    "t.lt(90)\n",
    "\n",
    "t.fd(100)\n",
    "t.lt(90)\n"
   ]
  },
  {
   "cell_type": "code",
   "execution_count": 6,
   "id": "489bb162-b397-46cb-b7c1-bbc175352580",
   "metadata": {},
   "outputs": [],
   "source": [
    "turtle.resetscreen()"
   ]
  },
  {
   "cell_type": "code",
   "execution_count": null,
   "id": "3308bcd1-a30f-4c73-b08f-5f1ba6acfc5f",
   "metadata": {},
   "outputs": [],
   "source": [
    "# Using loops\n",
    "\n",
    "for i in range(4):\n",
    "    t.fd(100)\n",
    "    t.lt(90)  "
   ]
  },
  {
   "cell_type": "code",
   "execution_count": 10,
   "id": "f8b739c3-60b3-4ccd-a69c-23866a23da09",
   "metadata": {},
   "outputs": [],
   "source": [
    "# Create a square with a function -> Square\n",
    "# Parameters: turtle object, length in pixels\n",
    "\n",
    "def square(t, d, is_screen_reset):\n",
    "    \"\"\"\n",
    "    It draws square with turtle.\n",
    "    Parameters: turtle t, int d, bool is_screen_reset\n",
    "    Returns: None\n",
    "    \"\"\"\n",
    "    # reset screen\n",
    "    if is_screen_reset == True:\n",
    "        reset()\n",
    "    # draw a square\n",
    "    for i in range(4):\n",
    "        t.fd(d)\n",
    "        t.lt(90)"
   ]
  },
  {
   "cell_type": "code",
   "execution_count": 11,
   "id": "4b8183f0-282c-4201-a98d-c5ef4f893746",
   "metadata": {},
   "outputs": [],
   "source": [
    "square(t, 200, True)"
   ]
  },
  {
   "cell_type": "code",
   "execution_count": 23,
   "id": "f89ba6c3-97ae-40fe-ae1c-b32a49d8fcc3",
   "metadata": {},
   "outputs": [],
   "source": [
    "square(t, 300, True)"
   ]
  },
  {
   "cell_type": "code",
   "execution_count": 24,
   "id": "33d54f02-c559-43da-97de-1a44510ebd83",
   "metadata": {},
   "outputs": [],
   "source": [
    "square(t, 100, False)"
   ]
  },
  {
   "cell_type": "code",
   "execution_count": 9,
   "id": "734d6f0f-7ae8-4977-aa06-5d366b5f1e65",
   "metadata": {},
   "outputs": [],
   "source": [
    "# reset\n",
    "def reset():\n",
    "    turtle.resetscreen()"
   ]
  },
  {
   "cell_type": "code",
   "execution_count": 26,
   "id": "37cfaf5d-918f-4130-8fd4-56cfbeb1cc73",
   "metadata": {},
   "outputs": [],
   "source": [
    "# 20 - 40 - 60 ............ 200\n",
    "\n",
    "reset()\n",
    "for i in range(1, 11):\n",
    "    square(t, i * 20, False)"
   ]
  },
  {
   "cell_type": "markdown",
   "id": "e89cd4e1-ff7a-4921-8f2b-7ace437041f1",
   "metadata": {},
   "source": [
    "### Creating a Polygon"
   ]
  },
  {
   "cell_type": "code",
   "execution_count": 12,
   "id": "789f043a-8840-40a1-994c-63c5235bb9e0",
   "metadata": {},
   "outputs": [],
   "source": [
    "# Draw a polygon.\n",
    "# Function name polygon\n",
    "\n",
    "def polygon(t, d, n, is_screen_reset):\n",
    "    \"\"\"\n",
    "    Draws a polygon.\n",
    "    Parameters: turtle t, int d (pixels), int n (number of sides), bool is_screen_reset\n",
    "    Returns: None \n",
    "    \"\"\"\n",
    "\n",
    "    # resetting\n",
    "    if is_screen_reset:\n",
    "        reset()\n",
    "        \n",
    "    # angle\n",
    "    angle = 360 / n\n",
    "    \n",
    "    # polygon\n",
    "    for i in range(n):\n",
    "        t.fd(d)\n",
    "        t.lt(angle)"
   ]
  },
  {
   "cell_type": "code",
   "execution_count": 13,
   "id": "f7c57577-515c-4ccc-aa4d-649a26d7da8f",
   "metadata": {},
   "outputs": [],
   "source": [
    "polygon(t, 100, 6, True)"
   ]
  },
  {
   "cell_type": "markdown",
   "id": "8fe5f911-ea44-4c01-b9a4-bad5f0398c02",
   "metadata": {},
   "source": [
    "**Named Arguments**\n",
    "* When you call a function and passing parameters:\n",
    "* function_name(parameter_name = parameter_value)"
   ]
  },
  {
   "cell_type": "code",
   "execution_count": null,
   "id": "960588f0-927c-4d40-a380-3e284d1ebc86",
   "metadata": {},
   "outputs": [],
   "source": [
    "polygon(t=t, d=200, n=8, is_screen_reset=False) # Named Arguments"
   ]
  },
  {
   "cell_type": "code",
   "execution_count": null,
   "id": "d0645a15-cbc1-46bc-b8e7-5e2300e63731",
   "metadata": {},
   "outputs": [],
   "source": [
    "square(t, d=250, is_screen_reset=True) # Named Arguments"
   ]
  },
  {
   "cell_type": "markdown",
   "id": "3d90b499-738c-4acb-981b-bfa1f47a0d5a",
   "metadata": {},
   "source": [
    "### Creating a Circle"
   ]
  },
  {
   "cell_type": "code",
   "execution_count": null,
   "id": "9890638a-f94f-4a0d-ab0a-2dc08e674605",
   "metadata": {},
   "outputs": [],
   "source": [
    "# Draw a circle. we need turtle t and radius r."
   ]
  },
  {
   "cell_type": "code",
   "execution_count": 14,
   "id": "ba7ba035-fb35-4973-b535-436d4490e36f",
   "metadata": {},
   "outputs": [],
   "source": [
    "import math\n",
    "def circle(t, r, is_screen_reset):\n",
    "    \"\"\"\n",
    "    Draws a circle.\n",
    "    Parameters: turtle t, int r, bool is_screen_reset\n",
    "    Returns: None(void)\n",
    "    \"\"\"\n",
    "    # Perimeter -> total distance to draw\n",
    "    perimeter = 2 * math.pi * r\n",
    "\n",
    "    # steps -> 360 / angles\n",
    "    # angle of an arc\n",
    "    steps = int(360 / 10)\n",
    "\n",
    "    # distance -> distance to draw in each arc\n",
    "    distance = perimeter / steps\n",
    "\n",
    "    # call polygon\n",
    "    polygon(t, d=distance , n=steps, is_screen_reset=is_screen_reset)\n",
    "    "
   ]
  },
  {
   "cell_type": "code",
   "execution_count": 15,
   "id": "cd3f4a26-df0f-4e8a-a8ab-1d70735a3898",
   "metadata": {},
   "outputs": [],
   "source": [
    "circle(t, 200, True)"
   ]
  },
  {
   "cell_type": "code",
   "execution_count": 16,
   "id": "2d64290b-d9be-4c19-9fda-bf8388105c2e",
   "metadata": {},
   "outputs": [],
   "source": [
    "reset()\n",
    "for i in range(1, 4):\n",
    "    circle(t, i * 50, False)"
   ]
  },
  {
   "cell_type": "markdown",
   "id": "5ae0e190-b147-453a-9466-838b72512107",
   "metadata": {},
   "source": [
    "### Creating a Star"
   ]
  },
  {
   "cell_type": "code",
   "execution_count": 12,
   "id": "622740ae-19de-4fdd-b4f3-aca252e4c425",
   "metadata": {},
   "outputs": [
    {
     "data": {
      "text/plain": [
       "144.0"
      ]
     },
     "execution_count": 12,
     "metadata": {},
     "output_type": "execute_result"
    }
   ],
   "source": [
    "# Draw a star.\n",
    "# Angle of a 5 sized star\n",
    "\n",
    "angle = 180 / 5\n",
    "angle = 180 - angle\n",
    "angle"
   ]
  },
  {
   "cell_type": "code",
   "execution_count": 17,
   "id": "1f425aab-f91a-45ee-a7f7-6c509a4fee3e",
   "metadata": {},
   "outputs": [],
   "source": [
    "# Fixed sized star\n",
    "\n",
    "def star(t, d, is_screen_reset):\n",
    "    \"\"\"\n",
    "    Draws a star with 5 sizes.\n",
    "    Parameters: turtle t, int d, bool is_screen_reset\n",
    "    \"\"\"\n",
    "    # resetting\n",
    "    if is_screen_reset:\n",
    "        reset()\n",
    "\n",
    "    # angle\n",
    "    angle = 180 / 5\n",
    "    angle = 180 - angle\n",
    "\n",
    "    for i in range(5):\n",
    "        t.fd(d)\n",
    "        t.lt(angle)"
   ]
  },
  {
   "cell_type": "code",
   "execution_count": 18,
   "id": "54184e0f-73ea-407d-9150-12874f474255",
   "metadata": {},
   "outputs": [],
   "source": [
    "star(t, 300, is_screen_reset=True)"
   ]
  },
  {
   "cell_type": "code",
   "execution_count": null,
   "id": "d0f78091-a7ef-4945-9060-6b5f6ad3bfde",
   "metadata": {},
   "outputs": [],
   "source": [
    "star(t, 200, is_screen_reset=False)"
   ]
  },
  {
   "cell_type": "code",
   "execution_count": 15,
   "id": "bab99b0e-7acb-46f4-96e4-e24509ef2fd0",
   "metadata": {},
   "outputs": [],
   "source": [
    "# Adding colors to the star. Line or pen color & fill color\n",
    "\n",
    "def star(t, d, is_screen_reset, color):\n",
    "    \"\"\"\n",
    "    Draws a star with 5 sizes.\n",
    "    Parameters: turtle t, int d, bool is_screen_reset, str color \n",
    "    \"\"\"\n",
    "    # resetting\n",
    "    if is_screen_reset:\n",
    "        reset()\n",
    "\n",
    "    # angle\n",
    "    angle = 180 / 5\n",
    "    angle = 180 - angle\n",
    "\n",
    "    # line color or pen color\n",
    "    t.color(color)\n",
    "\n",
    "    # start the filling\n",
    "    t.fillcolor(color)\n",
    "    t.begin_fill()\n",
    "\n",
    "    for i in range(5):\n",
    "        t.fd(d)\n",
    "        t.lt(angle)\n",
    "\n",
    "    # end the filling\n",
    "    t.end_fill()\n"
   ]
  },
  {
   "cell_type": "code",
   "execution_count": 16,
   "id": "a4c001b5-199a-4d46-b227-6283fa965a6d",
   "metadata": {},
   "outputs": [],
   "source": [
    "star(t, 300, is_screen_reset=True, color='green')"
   ]
  },
  {
   "cell_type": "code",
   "execution_count": 17,
   "id": "1d983e0d-59b7-44c0-897c-27d3a1293d6d",
   "metadata": {},
   "outputs": [],
   "source": [
    "star(t, 200, is_screen_reset=False, color='orange')"
   ]
  },
  {
   "cell_type": "code",
   "execution_count": 18,
   "id": "39ec7697-84fc-429c-aca3-66134990a7c2",
   "metadata": {},
   "outputs": [],
   "source": [
    "star(t, 100, is_screen_reset=False, color='purple')"
   ]
  },
  {
   "cell_type": "code",
   "execution_count": 19,
   "id": "7a7a26b5-c6fb-4461-a9c7-c190b9b78769",
   "metadata": {},
   "outputs": [],
   "source": [
    "# Variable size star\n",
    "\n",
    "def star(t, d, n, is_screen_reset, color):\n",
    "    \"\"\"\n",
    "    Draws a star with n sizes.\n",
    "    Parameters: turtle t, int d, int n, bool is_screen_reset, str color\n",
    "    \"\"\"\n",
    "    # resetting\n",
    "    if is_screen_reset:\n",
    "        reset()\n",
    "\n",
    "    # angle\n",
    "    angle = 180 / n\n",
    "    angle = 180 - angle\n",
    "\n",
    "    # line color or pen color\n",
    "    t.color(color)\n",
    "\n",
    "    # start the filling\n",
    "    t.fillcolor(color)\n",
    "    t.begin_fill()\n",
    "\n",
    "    for i in range(n):\n",
    "        t.fd(d)\n",
    "        t.lt(angle)\n",
    "\n",
    "    # end the filling\n",
    "    t.end_fill()"
   ]
  },
  {
   "cell_type": "code",
   "execution_count": 20,
   "id": "bbc12721-a0cf-4139-862c-696797462a0f",
   "metadata": {},
   "outputs": [],
   "source": [
    "# n should be odd if we kept it even the star won't complete\n",
    "star(t, 300, 10, is_screen_reset=True, color='red')"
   ]
  },
  {
   "cell_type": "code",
   "execution_count": null,
   "id": "0eec51a5-01d4-4ad8-b6ed-38c8728ac079",
   "metadata": {},
   "outputs": [],
   "source": [
    "star(t, 300, 11, is_screen_reset=True, color='yellow')"
   ]
  },
  {
   "cell_type": "code",
   "execution_count": 19,
   "id": "034f7372-b138-4fa6-ac06-6822b7f2a943",
   "metadata": {},
   "outputs": [],
   "source": [
    "# Differentiate the line or pen color & fill color\n",
    "\n",
    "def star(t, d, n, is_screen_reset, pen_color, fill_color):\n",
    "    \"\"\"\n",
    "    Draws a star with n sizes.\n",
    "    Parameters: turtle t, int d, int n, bool is_screen_reset, str pen_color, fill_color\n",
    "    \"\"\"\n",
    "    # resetting\n",
    "    if is_screen_reset:\n",
    "        reset()\n",
    "\n",
    "    # angle\n",
    "    angle = 180 / n\n",
    "    angle = 180 - angle\n",
    "\n",
    "    # line or pen color\n",
    "    t.color(pen_color)\n",
    "\n",
    "    # start the filling\n",
    "    t.fillcolor(fill_color)\n",
    "    t.begin_fill()\n",
    "\n",
    "    for i in range(n):\n",
    "        t.fd(d)\n",
    "        t.lt(angle)\n",
    "\n",
    "    # end the filling\n",
    "    t.end_fill()"
   ]
  },
  {
   "cell_type": "code",
   "execution_count": 20,
   "id": "c1251a92-18fb-4645-9308-c0f5140fbc57",
   "metadata": {},
   "outputs": [],
   "source": [
    "star(t, 300, 15, is_screen_reset=True, pen_color='red', fill_color='yellow')"
   ]
  },
  {
   "cell_type": "code",
   "execution_count": 21,
   "id": "f5b5daac-faaa-4427-b7f9-f19de23694ae",
   "metadata": {},
   "outputs": [],
   "source": [
    "# last statement -> before close\n",
    "# restart the kernel after you close the turtle.\n",
    "\n",
    "turtle.mainloop()"
   ]
  }
 ],
 "metadata": {
  "kernelspec": {
   "display_name": "newkernel",
   "language": "python",
   "name": "newkernel"
  },
  "language_info": {
   "codemirror_mode": {
    "name": "ipython",
    "version": 3
   },
   "file_extension": ".py",
   "mimetype": "text/x-python",
   "name": "python",
   "nbconvert_exporter": "python",
   "pygments_lexer": "ipython3",
   "version": "3.11.7"
  }
 },
 "nbformat": 4,
 "nbformat_minor": 5
}
