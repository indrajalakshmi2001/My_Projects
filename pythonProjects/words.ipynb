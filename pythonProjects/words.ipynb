{
 "cells": [
  {
   "cell_type": "markdown",
   "id": "12a61c5d-b3a7-4aa1-b1b5-6247e4251fac",
   "metadata": {},
   "source": [
    "# Project - Words\n",
    "\n",
    "* In this project we will search for words based on predefined criteria.\n",
    "* For instance which words does not include any vowels or the letters of which words are in alphabetical order.\n",
    "* The words are from Lorem Ipsum.\n",
    "* Lorem Ipsum is simply dummy text of the printing and typesetting industry.  \n",
    "https://www.lipsum.com/\n",
    "\n",
    "**Preparation:**  \n",
    "  To read the words:\n",
    "* open() function\n",
    "  * open(file, mode)\n",
    "  * mode:\n",
    "    * r: read(default)\n",
    "    * a: append\n",
    "    * w: write\n",
    "    * x: create"
   ]
  },
  {
   "cell_type": "code",
   "execution_count": 9,
   "id": "6068a3e4-1521-40ac-bf86-d247deb9cacf",
   "metadata": {},
   "outputs": [],
   "source": [
    "# open()\n",
    "\n",
    "file = open('words.txt')"
   ]
  },
  {
   "cell_type": "code",
   "execution_count": 10,
   "id": "dcd0264a-c3ee-421e-88e9-ac0f7719dc44",
   "metadata": {},
   "outputs": [
    {
     "data": {
      "text/plain": [
       "'Lorem\\n'"
      ]
     },
     "execution_count": 10,
     "metadata": {},
     "output_type": "execute_result"
    }
   ],
   "source": [
    "# Let's read the line\n",
    "\n",
    "file.readline()"
   ]
  },
  {
   "cell_type": "code",
   "execution_count": 11,
   "id": "02ed1cae-8461-4988-a10c-f5c9b561e2d5",
   "metadata": {},
   "outputs": [
    {
     "data": {
      "text/plain": [
       "'ipsum\\n'"
      ]
     },
     "execution_count": 11,
     "metadata": {},
     "output_type": "execute_result"
    }
   ],
   "source": [
    "# Let's read the second line\n",
    "\n",
    "file.readline()"
   ]
  },
  {
   "cell_type": "markdown",
   "id": "c9b7a587-8aff-45f0-b6e5-59e3b2fd43fe",
   "metadata": {},
   "source": [
    "**Special Chars:**\n",
    "\n",
    "* \\n : new line character\n",
    "* \\r : carriage return (enter)"
   ]
  },
  {
   "cell_type": "code",
   "execution_count": 13,
   "id": "83f86d38-33ec-4f10-a12e-a5352a52569e",
   "metadata": {},
   "outputs": [
    {
     "data": {
      "text/plain": [
       "'dolor\\n'"
      ]
     },
     "execution_count": 13,
     "metadata": {},
     "output_type": "execute_result"
    }
   ],
   "source": [
    "# run readline\n",
    "\n",
    "line = file.readline()\n",
    "line"
   ]
  },
  {
   "cell_type": "code",
   "execution_count": 16,
   "id": "8aad9ac8-9405-415c-a3e6-af9819df05f4",
   "metadata": {},
   "outputs": [
    {
     "name": "stdout",
     "output_type": "stream",
     "text": [
      "Lorem\n",
      "\n",
      "ipsum\n",
      "\n",
      "dolor\n",
      "\n",
      "sit\n",
      "\n",
      "amet\n",
      "\n",
      "consectetur\n",
      "\n",
      "adipiscing\n",
      "\n",
      "elit\n",
      "\n",
      "Nulla\n",
      "\n",
      "sodales\n",
      "\n",
      "orci\n",
      "\n",
      "sed\n",
      "\n",
      "nisl\n",
      "\n",
      "tempor\n",
      "\n",
      "tristique\n",
      "\n",
      "Donec\n",
      "\n",
      "commodo\n",
      "\n",
      "non\n",
      "\n",
      "leo\n",
      "\n",
      "quis\n",
      "\n",
      "fermentum\n",
      "\n"
     ]
    }
   ],
   "source": [
    "# print the first 20 lines\n",
    "\n",
    "file = open('words.txt')\n",
    "\n",
    "# we need index -> enumerate\n",
    "\n",
    "for index, line in enumerate(file):\n",
    "    if index <= 20:\n",
    "        print(line)\n",
    "        "
   ]
  },
  {
   "cell_type": "code",
   "execution_count": 19,
   "id": "d25172e7-72de-4869-8a3d-852f0b284a19",
   "metadata": {},
   "outputs": [
    {
     "name": "stdout",
     "output_type": "stream",
     "text": [
      "['Lorem']\n",
      "['ipsum']\n",
      "['dolor']\n",
      "['sit']\n",
      "['amet']\n",
      "['consectetur']\n",
      "['adipiscing']\n",
      "['elit']\n",
      "['Nulla']\n",
      "['sodales']\n",
      "['orci']\n",
      "['sed']\n",
      "['nisl']\n",
      "['tempor']\n",
      "['tristique']\n",
      "['Donec']\n",
      "['commodo']\n",
      "['non']\n",
      "['leo']\n",
      "['quis']\n",
      "['fermentum']\n"
     ]
    }
   ],
   "source": [
    "# remove new line\n",
    "# After every word we have one line blank and in next line we have another word to remove these empty line we use the below code\n",
    "\n",
    "file = open('words.txt')\n",
    "\n",
    "for index, line in enumerate(file):\n",
    "    if index <= 20:\n",
    "\n",
    "        # split() -> splits the text from space chars (space, \\n new line, carriage return)\n",
    "        word_list = line.split()\n",
    "        print(word_list)"
   ]
  },
  {
   "cell_type": "markdown",
   "id": "795ba53d-4994-40e3-9987-664609901a86",
   "metadata": {},
   "source": [
    "**Exercise 1:**  \n",
    "We will print the words which have numbers of letters more than 10."
   ]
  },
  {
   "cell_type": "code",
   "execution_count": 39,
   "id": "426252c3-a9e7-48bb-9d73-c9b6fb5b329b",
   "metadata": {},
   "outputs": [
    {
     "name": "stdout",
     "output_type": "stream",
     "text": [
      "consectetur\n",
      "pellentesque\n",
      "sollicitudin\n",
      "scelerisque\n",
      "ullamcorper\n",
      "condimentum\n",
      "Suspendisse\n"
     ]
    }
   ],
   "source": [
    "# read the file\n",
    "file = open('words.txt')\n",
    "\n",
    "for line in file:\n",
    "\n",
    "    # split() -> \\n\n",
    "    word_list = line.split()\n",
    "\n",
    "    # word is the first element in list\n",
    "    word = word_list[0]\n",
    "\n",
    "    # check number of Letters\n",
    "    if len(word) > 10:\n",
    "        print(word)"
   ]
  },
  {
   "cell_type": "markdown",
   "id": "611556b0-ab1d-4ed7-9e32-e53dc3db06ec",
   "metadata": {},
   "source": [
    "**Exercise 2:**  \n",
    "Define a new function.  \n",
    "This function will search for the words which have no vowels in it. (a, e, i, o, u)"
   ]
  },
  {
   "cell_type": "code",
   "execution_count": 28,
   "id": "076b1029-2f21-4cad-b64a-8ee970cf2ec3",
   "metadata": {},
   "outputs": [],
   "source": [
    "def check_for_vowels():\n",
    "    # read the file\n",
    "    file = open('words.txt')\n",
    "\n",
    "    for line in file:\n",
    "\n",
    "        # split() -> \\n\n",
    "        word_list = line.split()\n",
    "\n",
    "        # word is the first element in list\n",
    "        word = word_list[0]\n",
    "\n",
    "        # check if included vowel\n",
    "        if not 'a' in word and \\\n",
    "           not 'e' in word and \\\n",
    "           not 'i' in word and \\\n",
    "           not 'o' in word and \\\n",
    "           not 'u' in word:\n",
    "            print(word)         "
   ]
  },
  {
   "cell_type": "code",
   "execution_count": 29,
   "id": "1b86df46-d1d0-41de-8758-d4fc94ea9e9e",
   "metadata": {},
   "outputs": [
    {
     "name": "stdout",
     "output_type": "stream",
     "text": [
      "In\n",
      "trylyk\n",
      "Antryl\n"
     ]
    }
   ],
   "source": [
    "check_for_vowels()"
   ]
  },
  {
   "cell_type": "code",
   "execution_count": 60,
   "id": "7929ea72-8ab7-43b7-9c1e-d822db315c5e",
   "metadata": {},
   "outputs": [],
   "source": [
    "# Removing the Captial vowels from output\n",
    "def check_for_vowels():\n",
    "    # read the file\n",
    "    file = open('words.txt')\n",
    "\n",
    "    for line in file:\n",
    "\n",
    "        # split() -> \\n\n",
    "        word_list = line.split()\n",
    "\n",
    "        # word is the first element in list\n",
    "        word = word_list[0]\n",
    "        \n",
    "        # convert into lower case\n",
    "        word = word.lower()\n",
    "\n",
    "        # check if included vowel\n",
    "        if not 'a' in word and \\\n",
    "           not 'e' in word and \\\n",
    "           not 'i' in word and \\\n",
    "           not 'o' in word and \\\n",
    "           not 'u' in word:\n",
    "            print(word)    "
   ]
  },
  {
   "cell_type": "code",
   "execution_count": 36,
   "id": "30aff3c6-3355-45f6-baae-6670dcd8dff1",
   "metadata": {},
   "outputs": [
    {
     "name": "stdout",
     "output_type": "stream",
     "text": [
      "trylyk\n"
     ]
    }
   ],
   "source": [
    "check_for_vowels()"
   ]
  },
  {
   "cell_type": "code",
   "execution_count": 61,
   "id": "8f971611-9617-46f0-978b-aa460028ae54",
   "metadata": {},
   "outputs": [],
   "source": [
    "# Check for words which includes 'ae' together and in this order.\n",
    "def check_for_ae():\n",
    "    # read the file\n",
    "    file = open('words.txt')\n",
    "\n",
    "    for line in file:\n",
    "\n",
    "        # split() -> \\n\n",
    "        word_list = line.split()\n",
    "\n",
    "        # word is the first element in list\n",
    "        word = word_list[0]\n",
    "        \n",
    "        # convert into lower case\n",
    "        word = word.lower()\n",
    "\n",
    "        # check if included vowel\n",
    "        if 'ae' in word:\n",
    "            print(word)   "
   ]
  },
  {
   "cell_type": "code",
   "execution_count": 38,
   "id": "9e9fe5d1-1467-4e1e-9e43-bae844a0748c",
   "metadata": {},
   "outputs": [
    {
     "name": "stdout",
     "output_type": "stream",
     "text": [
      "vitae\n",
      "praesent\n",
      "aenean\n",
      "maecenas\n"
     ]
    }
   ],
   "source": [
    "check_for_ae()"
   ]
  },
  {
   "cell_type": "markdown",
   "id": "a8977e64-f311-4e20-8f92-491bf15bcd7c",
   "metadata": {},
   "source": [
    "**Exercise 3:**  \n",
    "We will define a function **is_any_forbidden_letter.**  \n",
    "It will take letters which are forbidden and a text.  \n",
    "It will check if this text included any of these forbidden letters.  \n",
    "bool function -> True, False"
   ]
  },
  {
   "cell_type": "code",
   "execution_count": 48,
   "id": "bc660ed5-eb4b-4ffd-ab41-70009732c896",
   "metadata": {},
   "outputs": [],
   "source": [
    "def is_any_forbidden_letter(text, forbidden_letters):\n",
    "\n",
    "    for letter in text:\n",
    "        if letter in forbidden_letters:\n",
    "            return True\n",
    "    else:\n",
    "        return False"
   ]
  },
  {
   "cell_type": "code",
   "execution_count": 49,
   "id": "4746705a-341f-4290-abea-e4d50da594e7",
   "metadata": {},
   "outputs": [
    {
     "data": {
      "text/plain": [
       "True"
      ]
     },
     "execution_count": 49,
     "metadata": {},
     "output_type": "execute_result"
    }
   ],
   "source": [
    "sentence = 'This is a forbidden sentence.'\n",
    "forbidden_letters = 'ae'\n",
    "\n",
    "is_any_forbidden_letter(sentence, forbidden_letters)"
   ]
  },
  {
   "cell_type": "code",
   "execution_count": 50,
   "id": "da46f7dd-951e-4446-a362-daf6e6c1047b",
   "metadata": {},
   "outputs": [
    {
     "data": {
      "text/plain": [
       "False"
      ]
     },
     "execution_count": 50,
     "metadata": {},
     "output_type": "execute_result"
    }
   ],
   "source": [
    "sentence = 'This is a forbidden sentence.'\n",
    "forbidden_letters = 'xy'\n",
    "\n",
    "is_any_forbidden_letter(sentence, forbidden_letters)"
   ]
  },
  {
   "cell_type": "markdown",
   "id": "57e81be6-4051-4f16-81a1-dc61bde35ab9",
   "metadata": {},
   "source": [
    "**Exercise 4:**  \n",
    "Define a function named **only_uses_these_letters**  \n",
    "It will take letters and a text.  \n",
    "It will check if this text uses only these letters.  \n",
    "The text users only these letters -> True  \n",
    "bool function -> True, False"
   ]
  },
  {
   "cell_type": "code",
   "execution_count": 56,
   "id": "f6f930d4-f21a-457f-957d-84a0dec33ce5",
   "metadata": {},
   "outputs": [],
   "source": [
    "def only_uses_these_letters(text, letters):\n",
    "    for char in text:\n",
    "        # if the char in letters or not\n",
    "        # check if char is an alphabetical letter -> isalpha()\n",
    "        if char.isalpha() and not char in letters:\n",
    "            return False\n",
    "    else:\n",
    "        return True"
   ]
  },
  {
   "cell_type": "code",
   "execution_count": 57,
   "id": "f221e72f-2cc5-4c61-bf9b-afe0532b03fa",
   "metadata": {},
   "outputs": [
    {
     "data": {
      "text/plain": [
       "False"
      ]
     },
     "execution_count": 57,
     "metadata": {},
     "output_type": "execute_result"
    }
   ],
   "source": [
    "sentence = 'this is a long sentence to check'\n",
    "letters = 'thials'\n",
    "\n",
    "only_uses_these_letters(sentence, letters)"
   ]
  },
  {
   "cell_type": "code",
   "execution_count": 58,
   "id": "aa90a66d-34f7-4dd7-ab0f-0c80321562fd",
   "metadata": {},
   "outputs": [
    {
     "data": {
      "text/plain": [
       "True"
      ]
     },
     "execution_count": 58,
     "metadata": {},
     "output_type": "execute_result"
    }
   ],
   "source": [
    "sentence = 'check'\n",
    "letters = 'chek'\n",
    "\n",
    "only_uses_these_letters(sentence, letters)"
   ]
  },
  {
   "cell_type": "code",
   "execution_count": 59,
   "id": "2a018c4f-c55e-4037-83ab-5cc5203abfd9",
   "metadata": {},
   "outputs": [
    {
     "data": {
      "text/plain": [
       "False"
      ]
     },
     "execution_count": 59,
     "metadata": {},
     "output_type": "execute_result"
    }
   ],
   "source": [
    "sentence = 'check this'\n",
    "letters = 'chek'\n",
    "\n",
    "only_uses_these_letters(sentence, letters)"
   ]
  },
  {
   "cell_type": "markdown",
   "id": "ce9d083e-3cb4-4e58-8d7c-d16512da935e",
   "metadata": {},
   "source": [
    "**Exercise 5:**  \n",
    "We will use the same function exercise 4, check for Lorem words using only 'ens' letters."
   ]
  },
  {
   "cell_type": "code",
   "execution_count": 63,
   "id": "c6767f4b-937f-43ef-a88e-5dfa26a8c215",
   "metadata": {},
   "outputs": [],
   "source": [
    "def only_uses_these_letters_lorem(letters):\n",
    "    # read the file\n",
    "    file = open('words.txt')\n",
    "\n",
    "    for line in file:\n",
    "\n",
    "        # split() -> \\n\n",
    "        word_list = line.split()\n",
    "\n",
    "        # word is the first element in list\n",
    "        word = word_list[0]\n",
    "        \n",
    "        # convert into lower case\n",
    "        word = word.lower()\n",
    "\n",
    "        if only_uses_these_letters(word, letters):\n",
    "            print(word)\n",
    "    "
   ]
  },
  {
   "cell_type": "code",
   "execution_count": 64,
   "id": "219f18cd-07d3-44cb-ba2f-9e07893b0f72",
   "metadata": {},
   "outputs": [
    {
     "name": "stdout",
     "output_type": "stream",
     "text": [
      "sesse\n",
      "nesnes\n",
      "senesses\n"
     ]
    }
   ],
   "source": [
    "letters = 'ens'\n",
    "only_uses_these_letters_lorem(letters)"
   ]
  },
  {
   "cell_type": "markdown",
   "id": "2cd38c44-9680-4c4b-b364-0d05c898a3d7",
   "metadata": {},
   "source": [
    "**Exercise 6:**  \n",
    "Define a function named **uses_all.**  \n",
    "It will take a text and letters.  \n",
    "If the text uses all the letter at least once, it will return True."
   ]
  },
  {
   "cell_type": "code",
   "execution_count": 65,
   "id": "61cb6cec-a8f8-4440-9893-06b82f02eb2e",
   "metadata": {},
   "outputs": [],
   "source": [
    "def uses_all(text, letters):\n",
    "    it_uses_all = True\n",
    "\n",
    "    for letter in letters:\n",
    "        # if letter is not text -> text is not using this letter\n",
    "        if not letter in text:\n",
    "            it_uses_all = False\n",
    "    # Loop finishes\n",
    "    return it_uses_all"
   ]
  },
  {
   "cell_type": "code",
   "execution_count": 66,
   "id": "45d1c123-6127-4e7b-a6ef-bbfe891913a9",
   "metadata": {},
   "outputs": [
    {
     "data": {
      "text/plain": [
       "True"
      ]
     },
     "execution_count": 66,
     "metadata": {},
     "output_type": "execute_result"
    }
   ],
   "source": [
    "letters = 'abd'\n",
    "\n",
    "text = 'This is a bold sentence.'\n",
    "\n",
    "uses_all(text, letters)"
   ]
  },
  {
   "cell_type": "code",
   "execution_count": 67,
   "id": "3bd36a83-a91c-469e-a602-eb3793a14e3c",
   "metadata": {},
   "outputs": [
    {
     "data": {
      "text/plain": [
       "True"
      ]
     },
     "execution_count": 67,
     "metadata": {},
     "output_type": "execute_result"
    }
   ],
   "source": [
    "letters = 'abcd'\n",
    "\n",
    "text = 'This is a bold sentence.'\n",
    "\n",
    "uses_all(text, letters)"
   ]
  },
  {
   "cell_type": "code",
   "execution_count": 68,
   "id": "e07bbff1-02c1-4084-8732-58ece0c59ba1",
   "metadata": {},
   "outputs": [
    {
     "data": {
      "text/plain": [
       "False"
      ]
     },
     "execution_count": 68,
     "metadata": {},
     "output_type": "execute_result"
    }
   ],
   "source": [
    "letters = 'abdf'\n",
    "\n",
    "text = 'This is a bold sentence.'\n",
    "\n",
    "uses_all(text, letters)"
   ]
  },
  {
   "cell_type": "markdown",
   "id": "0de9aba0-7749-4063-b57f-6114946782db",
   "metadata": {},
   "source": [
    "**Exercise 7:**  \n",
    "Use the function exercise6 and for Lorem letters check:  \n",
    "The words using all the letters in 'aei'."
   ]
  },
  {
   "cell_type": "code",
   "execution_count": 69,
   "id": "cbf81815-6c9a-4a0a-a8fe-1ea7d4557af5",
   "metadata": {},
   "outputs": [],
   "source": [
    "def uses_all_lorem(letters):\n",
    "    # read the file\n",
    "    file = open('words.txt')\n",
    "\n",
    "    for line in file:\n",
    "\n",
    "        # split() -> \\n\n",
    "        word_list = line.split()\n",
    "\n",
    "        # word is the first element in list\n",
    "        word = word_list[0]\n",
    "        \n",
    "        # convert into lower case\n",
    "        word = word.lower()\n",
    "\n",
    "        if uses_all(word, letters):\n",
    "            print(word)\n",
    "    "
   ]
  },
  {
   "cell_type": "code",
   "execution_count": 70,
   "id": "58baa477-b9b5-47eb-900f-a5eb884970fd",
   "metadata": {},
   "outputs": [
    {
     "name": "stdout",
     "output_type": "stream",
     "text": [
      "feugiat\n",
      "penatibus\n",
      "parturient\n",
      "venenatis\n",
      "vitae\n",
      "aliquet\n",
      "sapien\n",
      "viverra\n",
      "vehicula\n",
      "habitasse\n"
     ]
    }
   ],
   "source": [
    "letters = 'aei'\n",
    "uses_all_lorem(letters)"
   ]
  },
  {
   "cell_type": "markdown",
   "id": "06ecd2d8-20d1-4dc2-a0e5-80fea7b05554",
   "metadata": {},
   "source": [
    "**Exercise 8:**  \n",
    "Use functions from:\n",
    "\n",
    " * E4\n",
    " * E6\n",
    "\n",
    "To find the Lorem words which uses only `fir` letters and use them all.  \n",
    "The function name will be **only_uses_all**."
   ]
  },
  {
   "cell_type": "code",
   "execution_count": null,
   "id": "05a44a29-12e2-4837-84f1-d3d01c8e4f1c",
   "metadata": {},
   "outputs": [],
   "source": [
    "def only_uses_all(letters):\n",
    "    # read the file\n",
    "    file = open('words.txt')\n",
    "\n",
    "    for line in file:\n",
    "\n",
    "        # split() -> \\n\n",
    "        word_list = line.split()\n",
    "\n",
    "        # word is the first element in list\n",
    "        word = word_list[0]\n",
    "        \n",
    "        # convert into lower case\n",
    "        word = word.lower()\n",
    "\n",
    "        if only_uses_these_letters(word, letters) and uses_all(word, letters):\n",
    "            print(word)"
   ]
  },
  {
   "cell_type": "code",
   "execution_count": 73,
   "id": "1a4364ae-0f01-429f-8cee-16792423a391",
   "metadata": {},
   "outputs": [
    {
     "name": "stdout",
     "output_type": "stream",
     "text": [
      "frifirri\n"
     ]
    }
   ],
   "source": [
    "letters = 'fir'\n",
    "\n",
    "only_uses_all(letters)"
   ]
  },
  {
   "cell_type": "markdown",
   "id": "509e8be2-633d-4da1-a5b4-15c032aa1684",
   "metadata": {},
   "source": [
    "**Exercise 9:**  \n",
    "**ordered_word**: if the letters in a word is in alphabetical order.  \n",
    "Define a function named **is_ordered_word**.  \n",
    "It will take a string parameter as text.  \n",
    "It will return True if it is an ordered word.  \n",
    "Ex: abc, agor, def"
   ]
  },
  {
   "cell_type": "code",
   "execution_count": 76,
   "id": "d2885c0f-92a6-4d1f-b8fa-985061d246c7",
   "metadata": {},
   "outputs": [],
   "source": [
    "def is_ordered_word(word):\n",
    "    # previous letter is the first letter in word\n",
    "    prev =  word[0]\n",
    "\n",
    "    for letter in word:\n",
    "\n",
    "        # check if prev is smaller\n",
    "        if letter < prev:\n",
    "            return False\n",
    "\n",
    "        # reassign the previous as the current letter\n",
    "        prev = letter\n",
    "\n",
    "    # return True -> because loop has completed\n",
    "    return True"
   ]
  },
  {
   "cell_type": "code",
   "execution_count": 77,
   "id": "a57b403c-c831-46e8-9c8b-789354469a22",
   "metadata": {},
   "outputs": [
    {
     "data": {
      "text/plain": [
       "True"
      ]
     },
     "execution_count": 77,
     "metadata": {},
     "output_type": "execute_result"
    }
   ],
   "source": [
    "word = 'agor'\n",
    "is_ordered_word(word)"
   ]
  },
  {
   "cell_type": "code",
   "execution_count": 78,
   "id": "cf0ace6e-b400-4953-b2e9-441cfdb85175",
   "metadata": {},
   "outputs": [
    {
     "data": {
      "text/plain": [
       "False"
      ]
     },
     "execution_count": 78,
     "metadata": {},
     "output_type": "execute_result"
    }
   ],
   "source": [
    "word = 'python'\n",
    "is_ordered_word(word)"
   ]
  },
  {
   "cell_type": "code",
   "execution_count": 79,
   "id": "ae6e5414-32fd-4cd4-bfd4-7a4677cc5167",
   "metadata": {},
   "outputs": [
    {
     "data": {
      "text/plain": [
       "True"
      ]
     },
     "execution_count": 79,
     "metadata": {},
     "output_type": "execute_result"
    }
   ],
   "source": [
    "word = 'hnty'\n",
    "is_ordered_word(word)"
   ]
  },
  {
   "cell_type": "code",
   "execution_count": 83,
   "id": "5e3d90d7-ac81-470b-962c-e3ce4b787ddf",
   "metadata": {},
   "outputs": [
    {
     "data": {
      "text/plain": [
       "True"
      ]
     },
     "execution_count": 83,
     "metadata": {},
     "output_type": "execute_result"
    }
   ],
   "source": [
    "word = 'Nam' # Is this ordered word or not? (ASCII comparison)\n",
    "\n",
    "is_ordered_word(word)\n",
    "# It's True because capital 'N' is greater than small 'a'."
   ]
  },
  {
   "cell_type": "code",
   "execution_count": 84,
   "id": "c4a7c4d0-55e1-4291-90df-a8e396fd804c",
   "metadata": {},
   "outputs": [
    {
     "data": {
      "text/plain": [
       "True"
      ]
     },
     "execution_count": 84,
     "metadata": {},
     "output_type": "execute_result"
    }
   ],
   "source": [
    "'N' < 'a'"
   ]
  },
  {
   "cell_type": "markdown",
   "id": "b76f864b-2525-4587-8f50-61165678f056",
   "metadata": {},
   "source": [
    "**Exercise 10:**  \n",
    "Use function in exercise9 to find out which Lorem words are ordered."
   ]
  },
  {
   "cell_type": "code",
   "execution_count": 80,
   "id": "f1831542-1fd8-44c2-8117-81cbd4f92451",
   "metadata": {},
   "outputs": [],
   "source": [
    "def is_ordered_word_lorem():\n",
    "     # read the file\n",
    "    file = open('words.txt')\n",
    "\n",
    "    for line in file:\n",
    "\n",
    "        # split() -> \\n\n",
    "        word_list = line.split()\n",
    "\n",
    "        # word is the first element in list\n",
    "        word = word_list[0]\n",
    "        \n",
    "        # convert into lower case\n",
    "        word = word.lower()\n",
    "\n",
    "        # check if this word is an ordered word\n",
    "        if is_ordered_word(word):\n",
    "            print(word)"
   ]
  },
  {
   "cell_type": "code",
   "execution_count": 81,
   "id": "2f82eafe-89be-4d33-b93c-355af939b185",
   "metadata": {},
   "outputs": [
    {
     "name": "stdout",
     "output_type": "stream",
     "text": [
      "in\n",
      "at\n",
      "in\n",
      "eu\n",
      "et\n",
      "dis\n",
      "ac\n",
      "ex\n",
      "a\n",
      "est\n"
     ]
    }
   ],
   "source": [
    "is_ordered_word_lorem()"
   ]
  }
 ],
 "metadata": {
  "kernelspec": {
   "display_name": "newkernel",
   "language": "python",
   "name": "newkernel"
  },
  "language_info": {
   "codemirror_mode": {
    "name": "ipython",
    "version": 3
   },
   "file_extension": ".py",
   "mimetype": "text/x-python",
   "name": "python",
   "nbconvert_exporter": "python",
   "pygments_lexer": "ipython3",
   "version": "3.11.7"
  }
 },
 "nbformat": 4,
 "nbformat_minor": 5
}
